{
  "nbformat": 4,
  "nbformat_minor": 0,
  "metadata": {
    "colab": {
      "name": "handsOnML_chapter02",
      "provenance": [],
      "collapsed_sections": []
    },
    "kernelspec": {
      "name": "python3",
      "display_name": "Python 3"
    }
  },
  "cells": [
    {
      "cell_type": "code",
      "metadata": {
        "id": "3mU_JJu2jGSH"
      },
      "source": [
        "import os\r\n",
        "import tarfile # \r\n",
        "from six.moves import urllib"
      ],
      "execution_count": 80,
      "outputs": []
    },
    {
      "cell_type": "code",
      "metadata": {
        "colab": {
          "base_uri": "https://localhost:8080/",
          "height": 35
        },
        "id": "-xkwgXbblmiC",
        "outputId": "b147dca7-8295-4ce0-97c8-80db62c35eb1"
      },
      "source": [
        "os.getcwd()"
      ],
      "execution_count": 81,
      "outputs": [
        {
          "output_type": "execute_result",
          "data": {
            "application/vnd.google.colaboratory.intrinsic+json": {
              "type": "string"
            },
            "text/plain": [
              "'/content'"
            ]
          },
          "metadata": {
            "tags": []
          },
          "execution_count": 81
        }
      ]
    },
    {
      "cell_type": "code",
      "metadata": {
        "id": "R0PfuznnkPe3"
      },
      "source": [
        "DOWNLOAD_ROOT  = \"https://raw.githubusercontent.com/ageron/handson-ml/master/\"\r\n",
        "HOUSING_PATH = os.path.join(\"datasets\", \"housing\")\r\n",
        "HOUSING_URL = DOWNLOAD_ROOT + \"datasets/housing/housing.tgz\""
      ],
      "execution_count": 173,
      "outputs": []
    },
    {
      "cell_type": "code",
      "metadata": {
        "id": "1lfDChMMkr3m"
      },
      "source": [
        "\"\"\"\r\n",
        "fetch_housing_data function\r\n",
        "- 작업공간에 tar.gz file을 URL에서 housing_path에 다운로드 받고, 해당 파일의 압축을 푸는 함수\r\n",
        "urllib.request             --> URL을 열기 위한 확장 가능한 라이브러리\r\n",
        "urllib.request.urlretrieve --> \r\n",
        "tarfile.open               --> tar.gz를 압축 해제하지 않고 읽기\r\n",
        "housing_tgz.extractall     --> tar.gz 의 압축 해제 하는 듯\r\n",
        "housing_tgz.close()        --> open --> close \r\n",
        "\r\n",
        "\"\"\"\r\n",
        "def fetch_housing_data(housing_url = HOUSING_URL, housing_path = HOUSING_PATH):\r\n",
        "  if not os.path.isdir(housing_path):\r\n",
        "    os.makedirs(housing_path)\r\n",
        "  tgz_path = os.path.join(housing_path, \"housing.tgz\")\r\n",
        "  urllib.request.urlretrieve(housing_url, tgz_path)\r\n",
        "  housing_tgz = tarfile.open(tgz_path)\r\n",
        "  housing_tgz.extractall(path = housing_path)\r\n",
        "  housing_tgz.close()"
      ],
      "execution_count": 83,
      "outputs": []
    },
    {
      "cell_type": "code",
      "metadata": {
        "colab": {
          "base_uri": "https://localhost:8080/"
        },
        "id": "uXnGE9dYFEec",
        "outputId": "1344a726-df81-4141-e523-47b1bd7c5dac"
      },
      "source": [
        " urllib.request.urlretrieve(HOUSING_URL, os.path.join(HOUSING_PATH, \"housing.tgz\"))"
      ],
      "execution_count": 174,
      "outputs": [
        {
          "output_type": "execute_result",
          "data": {
            "text/plain": [
              "('datasets/housing/housing.tgz', <http.client.HTTPMessage at 0x7fb25fc39a20>)"
            ]
          },
          "metadata": {
            "tags": []
          },
          "execution_count": 174
        }
      ]
    },
    {
      "cell_type": "code",
      "metadata": {
        "id": "gfP55nEamgeF"
      },
      "source": [
        "import pandas as pd\r\n",
        "'''\r\n",
        "load_housing_data function\r\n",
        "- csv file을 읽어 판다스 데이터프레임 객체를 return 하는 함수\r\n",
        "- pd.read_csv(path) --> csv를 읽어 판다스 데이터 프레임으로 return 해 주는 함수\r\n",
        "'''\r\n",
        "def load_housing_data(housing_path = HOUSING_PATH):\r\n",
        "  csv_path = os.path.join(HOUSING_PATH, \"housing.csv\")\r\n",
        "  return pd.read_csv(csv_path)"
      ],
      "execution_count": 84,
      "outputs": []
    },
    {
      "cell_type": "code",
      "metadata": {
        "colab": {
          "base_uri": "https://localhost:8080/",
          "height": 195
        },
        "id": "B6r7a7cyp60w",
        "outputId": "aeea2057-152d-4796-addf-fccae7ac8fb3"
      },
      "source": [
        "fetch_housing_data()\r\n",
        "df = load_housing_data()\r\n",
        "df.head()"
      ],
      "execution_count": 85,
      "outputs": [
        {
          "output_type": "execute_result",
          "data": {
            "text/html": [
              "<div>\n",
              "<style scoped>\n",
              "    .dataframe tbody tr th:only-of-type {\n",
              "        vertical-align: middle;\n",
              "    }\n",
              "\n",
              "    .dataframe tbody tr th {\n",
              "        vertical-align: top;\n",
              "    }\n",
              "\n",
              "    .dataframe thead th {\n",
              "        text-align: right;\n",
              "    }\n",
              "</style>\n",
              "<table border=\"1\" class=\"dataframe\">\n",
              "  <thead>\n",
              "    <tr style=\"text-align: right;\">\n",
              "      <th></th>\n",
              "      <th>longitude</th>\n",
              "      <th>latitude</th>\n",
              "      <th>housing_median_age</th>\n",
              "      <th>total_rooms</th>\n",
              "      <th>total_bedrooms</th>\n",
              "      <th>population</th>\n",
              "      <th>households</th>\n",
              "      <th>median_income</th>\n",
              "      <th>median_house_value</th>\n",
              "      <th>ocean_proximity</th>\n",
              "    </tr>\n",
              "  </thead>\n",
              "  <tbody>\n",
              "    <tr>\n",
              "      <th>0</th>\n",
              "      <td>-122.23</td>\n",
              "      <td>37.88</td>\n",
              "      <td>41.0</td>\n",
              "      <td>880.0</td>\n",
              "      <td>129.0</td>\n",
              "      <td>322.0</td>\n",
              "      <td>126.0</td>\n",
              "      <td>8.3252</td>\n",
              "      <td>452600.0</td>\n",
              "      <td>NEAR BAY</td>\n",
              "    </tr>\n",
              "    <tr>\n",
              "      <th>1</th>\n",
              "      <td>-122.22</td>\n",
              "      <td>37.86</td>\n",
              "      <td>21.0</td>\n",
              "      <td>7099.0</td>\n",
              "      <td>1106.0</td>\n",
              "      <td>2401.0</td>\n",
              "      <td>1138.0</td>\n",
              "      <td>8.3014</td>\n",
              "      <td>358500.0</td>\n",
              "      <td>NEAR BAY</td>\n",
              "    </tr>\n",
              "    <tr>\n",
              "      <th>2</th>\n",
              "      <td>-122.24</td>\n",
              "      <td>37.85</td>\n",
              "      <td>52.0</td>\n",
              "      <td>1467.0</td>\n",
              "      <td>190.0</td>\n",
              "      <td>496.0</td>\n",
              "      <td>177.0</td>\n",
              "      <td>7.2574</td>\n",
              "      <td>352100.0</td>\n",
              "      <td>NEAR BAY</td>\n",
              "    </tr>\n",
              "    <tr>\n",
              "      <th>3</th>\n",
              "      <td>-122.25</td>\n",
              "      <td>37.85</td>\n",
              "      <td>52.0</td>\n",
              "      <td>1274.0</td>\n",
              "      <td>235.0</td>\n",
              "      <td>558.0</td>\n",
              "      <td>219.0</td>\n",
              "      <td>5.6431</td>\n",
              "      <td>341300.0</td>\n",
              "      <td>NEAR BAY</td>\n",
              "    </tr>\n",
              "    <tr>\n",
              "      <th>4</th>\n",
              "      <td>-122.25</td>\n",
              "      <td>37.85</td>\n",
              "      <td>52.0</td>\n",
              "      <td>1627.0</td>\n",
              "      <td>280.0</td>\n",
              "      <td>565.0</td>\n",
              "      <td>259.0</td>\n",
              "      <td>3.8462</td>\n",
              "      <td>342200.0</td>\n",
              "      <td>NEAR BAY</td>\n",
              "    </tr>\n",
              "  </tbody>\n",
              "</table>\n",
              "</div>"
            ],
            "text/plain": [
              "   longitude  latitude  ...  median_house_value  ocean_proximity\n",
              "0    -122.23     37.88  ...            452600.0         NEAR BAY\n",
              "1    -122.22     37.86  ...            358500.0         NEAR BAY\n",
              "2    -122.24     37.85  ...            352100.0         NEAR BAY\n",
              "3    -122.25     37.85  ...            341300.0         NEAR BAY\n",
              "4    -122.25     37.85  ...            342200.0         NEAR BAY\n",
              "\n",
              "[5 rows x 10 columns]"
            ]
          },
          "metadata": {
            "tags": []
          },
          "execution_count": 85
        }
      ]
    },
    {
      "cell_type": "code",
      "metadata": {
        "colab": {
          "base_uri": "https://localhost:8080/"
        },
        "id": "YPdTx5csq8-4",
        "outputId": "c696ca9a-3362-4bb9-d750-d3da4d341202"
      },
      "source": [
        "'''\r\n",
        "df.info() --> 데이터에 대한 간략한 설명. 전체 행 수, 각 특성의 데이터 타입과 null이 아닌 값의 개수 확인\r\n",
        "'''\r\n",
        "df.info()"
      ],
      "execution_count": 150,
      "outputs": [
        {
          "output_type": "stream",
          "text": [
            "<class 'pandas.core.frame.DataFrame'>\n",
            "RangeIndex: 20640 entries, 0 to 20639\n",
            "Data columns (total 11 columns):\n",
            " #   Column              Non-Null Count  Dtype  \n",
            "---  ------              --------------  -----  \n",
            " 0   longitude           20640 non-null  float64\n",
            " 1   latitude            20640 non-null  float64\n",
            " 2   housing_median_age  20640 non-null  float64\n",
            " 3   total_rooms         20640 non-null  float64\n",
            " 4   total_bedrooms      20433 non-null  float64\n",
            " 5   population          20640 non-null  float64\n",
            " 6   households          20640 non-null  float64\n",
            " 7   median_income       20640 non-null  float64\n",
            " 8   median_house_value  20640 non-null  float64\n",
            " 9   ocean_proximity     20640 non-null  object \n",
            " 10  income_cat          20640 non-null  float64\n",
            "dtypes: float64(10), object(1)\n",
            "memory usage: 1.7+ MB\n"
          ],
          "name": "stdout"
        }
      ]
    },
    {
      "cell_type": "code",
      "metadata": {
        "colab": {
          "base_uri": "https://localhost:8080/",
          "height": 284
        },
        "id": "JSAzO41Qrv_S",
        "outputId": "3e7e3517-dda4-4b01-dff5-9bb2bb6caaf6"
      },
      "source": [
        "'''\r\n",
        "value_counts --> 카테고리 별로 개수가 몇개인지 확인 가능\r\n",
        "describe     --> 수치형 변수들의 통계 요약 정보 보여줌 \r\n",
        "'''\r\n",
        "df['ocean_proximity'].value_counts()\r\n",
        "df.describe()"
      ],
      "execution_count": 87,
      "outputs": [
        {
          "output_type": "execute_result",
          "data": {
            "text/html": [
              "<div>\n",
              "<style scoped>\n",
              "    .dataframe tbody tr th:only-of-type {\n",
              "        vertical-align: middle;\n",
              "    }\n",
              "\n",
              "    .dataframe tbody tr th {\n",
              "        vertical-align: top;\n",
              "    }\n",
              "\n",
              "    .dataframe thead th {\n",
              "        text-align: right;\n",
              "    }\n",
              "</style>\n",
              "<table border=\"1\" class=\"dataframe\">\n",
              "  <thead>\n",
              "    <tr style=\"text-align: right;\">\n",
              "      <th></th>\n",
              "      <th>longitude</th>\n",
              "      <th>latitude</th>\n",
              "      <th>housing_median_age</th>\n",
              "      <th>total_rooms</th>\n",
              "      <th>total_bedrooms</th>\n",
              "      <th>population</th>\n",
              "      <th>households</th>\n",
              "      <th>median_income</th>\n",
              "      <th>median_house_value</th>\n",
              "    </tr>\n",
              "  </thead>\n",
              "  <tbody>\n",
              "    <tr>\n",
              "      <th>count</th>\n",
              "      <td>20640.000000</td>\n",
              "      <td>20640.000000</td>\n",
              "      <td>20640.000000</td>\n",
              "      <td>20640.000000</td>\n",
              "      <td>20433.000000</td>\n",
              "      <td>20640.000000</td>\n",
              "      <td>20640.000000</td>\n",
              "      <td>20640.000000</td>\n",
              "      <td>20640.000000</td>\n",
              "    </tr>\n",
              "    <tr>\n",
              "      <th>mean</th>\n",
              "      <td>-119.569704</td>\n",
              "      <td>35.631861</td>\n",
              "      <td>28.639486</td>\n",
              "      <td>2635.763081</td>\n",
              "      <td>537.870553</td>\n",
              "      <td>1425.476744</td>\n",
              "      <td>499.539680</td>\n",
              "      <td>3.870671</td>\n",
              "      <td>206855.816909</td>\n",
              "    </tr>\n",
              "    <tr>\n",
              "      <th>std</th>\n",
              "      <td>2.003532</td>\n",
              "      <td>2.135952</td>\n",
              "      <td>12.585558</td>\n",
              "      <td>2181.615252</td>\n",
              "      <td>421.385070</td>\n",
              "      <td>1132.462122</td>\n",
              "      <td>382.329753</td>\n",
              "      <td>1.899822</td>\n",
              "      <td>115395.615874</td>\n",
              "    </tr>\n",
              "    <tr>\n",
              "      <th>min</th>\n",
              "      <td>-124.350000</td>\n",
              "      <td>32.540000</td>\n",
              "      <td>1.000000</td>\n",
              "      <td>2.000000</td>\n",
              "      <td>1.000000</td>\n",
              "      <td>3.000000</td>\n",
              "      <td>1.000000</td>\n",
              "      <td>0.499900</td>\n",
              "      <td>14999.000000</td>\n",
              "    </tr>\n",
              "    <tr>\n",
              "      <th>25%</th>\n",
              "      <td>-121.800000</td>\n",
              "      <td>33.930000</td>\n",
              "      <td>18.000000</td>\n",
              "      <td>1447.750000</td>\n",
              "      <td>296.000000</td>\n",
              "      <td>787.000000</td>\n",
              "      <td>280.000000</td>\n",
              "      <td>2.563400</td>\n",
              "      <td>119600.000000</td>\n",
              "    </tr>\n",
              "    <tr>\n",
              "      <th>50%</th>\n",
              "      <td>-118.490000</td>\n",
              "      <td>34.260000</td>\n",
              "      <td>29.000000</td>\n",
              "      <td>2127.000000</td>\n",
              "      <td>435.000000</td>\n",
              "      <td>1166.000000</td>\n",
              "      <td>409.000000</td>\n",
              "      <td>3.534800</td>\n",
              "      <td>179700.000000</td>\n",
              "    </tr>\n",
              "    <tr>\n",
              "      <th>75%</th>\n",
              "      <td>-118.010000</td>\n",
              "      <td>37.710000</td>\n",
              "      <td>37.000000</td>\n",
              "      <td>3148.000000</td>\n",
              "      <td>647.000000</td>\n",
              "      <td>1725.000000</td>\n",
              "      <td>605.000000</td>\n",
              "      <td>4.743250</td>\n",
              "      <td>264725.000000</td>\n",
              "    </tr>\n",
              "    <tr>\n",
              "      <th>max</th>\n",
              "      <td>-114.310000</td>\n",
              "      <td>41.950000</td>\n",
              "      <td>52.000000</td>\n",
              "      <td>39320.000000</td>\n",
              "      <td>6445.000000</td>\n",
              "      <td>35682.000000</td>\n",
              "      <td>6082.000000</td>\n",
              "      <td>15.000100</td>\n",
              "      <td>500001.000000</td>\n",
              "    </tr>\n",
              "  </tbody>\n",
              "</table>\n",
              "</div>"
            ],
            "text/plain": [
              "          longitude      latitude  ...  median_income  median_house_value\n",
              "count  20640.000000  20640.000000  ...   20640.000000        20640.000000\n",
              "mean    -119.569704     35.631861  ...       3.870671       206855.816909\n",
              "std        2.003532      2.135952  ...       1.899822       115395.615874\n",
              "min     -124.350000     32.540000  ...       0.499900        14999.000000\n",
              "25%     -121.800000     33.930000  ...       2.563400       119600.000000\n",
              "50%     -118.490000     34.260000  ...       3.534800       179700.000000\n",
              "75%     -118.010000     37.710000  ...       4.743250       264725.000000\n",
              "max     -114.310000     41.950000  ...      15.000100       500001.000000\n",
              "\n",
              "[8 rows x 9 columns]"
            ]
          },
          "metadata": {
            "tags": []
          },
          "execution_count": 87
        }
      ]
    },
    {
      "cell_type": "code",
      "metadata": {
        "id": "08FfdrqCtnsP"
      },
      "source": [
        "%matplotlib inline\r\n",
        "import matplotlib.pyplot as plt\r\n",
        "df.hist(bins = 50, figsize = (20, 15)) "
      ],
      "execution_count": null,
      "outputs": []
    },
    {
      "cell_type": "code",
      "metadata": {
        "id": "89hpV3kf1e3L"
      },
      "source": [
        "import numpy as np\r\n",
        "def split_train_test(data, test_ratio):\r\n",
        "  np.random.seed(42)\r\n",
        "  shuffled_idx = np.random.permutation(len(data))\r\n",
        "  test_set_size = int(len(data) * test_ratio)\r\n",
        "  test_idx  =  shuffled_idx[:test_idx] \r\n",
        "  train_idx =  shuffled_idx[test_idx:]\r\n",
        "  return data.idoc[train_idx],  data.idoc[test_idx]"
      ],
      "execution_count": 89,
      "outputs": []
    },
    {
      "cell_type": "code",
      "metadata": {
        "id": "-Onxw34i4IVP"
      },
      "source": [
        "from zlib import crc32\r\n",
        "def test_set_check(identifier, test_ratio):\r\n",
        "  return crc32(np.int64(identifier)) & 0xffffffff < test_ratio * 2**32"
      ],
      "execution_count": 90,
      "outputs": []
    },
    {
      "cell_type": "code",
      "metadata": {
        "id": "gkJEnFX06gmg"
      },
      "source": [
        "def split_train_test_by_id(data, test_ratio, id_column):\r\n",
        "  ids = data[id_column]\r\n",
        "  in_test_set = ids.apply(lambda id_ : test_set_check(id_, test_ratio))\r\n",
        "  return data[~in_test_set], data[in_test_set]"
      ],
      "execution_count": 91,
      "outputs": []
    },
    {
      "cell_type": "code",
      "metadata": {
        "colab": {
          "base_uri": "https://localhost:8080/",
          "height": 195
        },
        "id": "ilxCgdGI6iiF",
        "outputId": "4d44911d-aa16-4f8a-e790-1a5e80340f14"
      },
      "source": [
        "df_with_id = df.reset_index()\r\n",
        "train_set, test_set = split_train_test_by_id(df_with_id, 0.2, 'index')\r\n",
        "train_set.head()"
      ],
      "execution_count": 92,
      "outputs": [
        {
          "output_type": "execute_result",
          "data": {
            "text/html": [
              "<div>\n",
              "<style scoped>\n",
              "    .dataframe tbody tr th:only-of-type {\n",
              "        vertical-align: middle;\n",
              "    }\n",
              "\n",
              "    .dataframe tbody tr th {\n",
              "        vertical-align: top;\n",
              "    }\n",
              "\n",
              "    .dataframe thead th {\n",
              "        text-align: right;\n",
              "    }\n",
              "</style>\n",
              "<table border=\"1\" class=\"dataframe\">\n",
              "  <thead>\n",
              "    <tr style=\"text-align: right;\">\n",
              "      <th></th>\n",
              "      <th>index</th>\n",
              "      <th>longitude</th>\n",
              "      <th>latitude</th>\n",
              "      <th>housing_median_age</th>\n",
              "      <th>total_rooms</th>\n",
              "      <th>total_bedrooms</th>\n",
              "      <th>population</th>\n",
              "      <th>households</th>\n",
              "      <th>median_income</th>\n",
              "      <th>median_house_value</th>\n",
              "      <th>ocean_proximity</th>\n",
              "    </tr>\n",
              "  </thead>\n",
              "  <tbody>\n",
              "    <tr>\n",
              "      <th>0</th>\n",
              "      <td>0</td>\n",
              "      <td>-122.23</td>\n",
              "      <td>37.88</td>\n",
              "      <td>41.0</td>\n",
              "      <td>880.0</td>\n",
              "      <td>129.0</td>\n",
              "      <td>322.0</td>\n",
              "      <td>126.0</td>\n",
              "      <td>8.3252</td>\n",
              "      <td>452600.0</td>\n",
              "      <td>NEAR BAY</td>\n",
              "    </tr>\n",
              "    <tr>\n",
              "      <th>1</th>\n",
              "      <td>1</td>\n",
              "      <td>-122.22</td>\n",
              "      <td>37.86</td>\n",
              "      <td>21.0</td>\n",
              "      <td>7099.0</td>\n",
              "      <td>1106.0</td>\n",
              "      <td>2401.0</td>\n",
              "      <td>1138.0</td>\n",
              "      <td>8.3014</td>\n",
              "      <td>358500.0</td>\n",
              "      <td>NEAR BAY</td>\n",
              "    </tr>\n",
              "    <tr>\n",
              "      <th>3</th>\n",
              "      <td>3</td>\n",
              "      <td>-122.25</td>\n",
              "      <td>37.85</td>\n",
              "      <td>52.0</td>\n",
              "      <td>1274.0</td>\n",
              "      <td>235.0</td>\n",
              "      <td>558.0</td>\n",
              "      <td>219.0</td>\n",
              "      <td>5.6431</td>\n",
              "      <td>341300.0</td>\n",
              "      <td>NEAR BAY</td>\n",
              "    </tr>\n",
              "    <tr>\n",
              "      <th>4</th>\n",
              "      <td>4</td>\n",
              "      <td>-122.25</td>\n",
              "      <td>37.85</td>\n",
              "      <td>52.0</td>\n",
              "      <td>1627.0</td>\n",
              "      <td>280.0</td>\n",
              "      <td>565.0</td>\n",
              "      <td>259.0</td>\n",
              "      <td>3.8462</td>\n",
              "      <td>342200.0</td>\n",
              "      <td>NEAR BAY</td>\n",
              "    </tr>\n",
              "    <tr>\n",
              "      <th>6</th>\n",
              "      <td>6</td>\n",
              "      <td>-122.25</td>\n",
              "      <td>37.84</td>\n",
              "      <td>52.0</td>\n",
              "      <td>2535.0</td>\n",
              "      <td>489.0</td>\n",
              "      <td>1094.0</td>\n",
              "      <td>514.0</td>\n",
              "      <td>3.6591</td>\n",
              "      <td>299200.0</td>\n",
              "      <td>NEAR BAY</td>\n",
              "    </tr>\n",
              "  </tbody>\n",
              "</table>\n",
              "</div>"
            ],
            "text/plain": [
              "   index  longitude  ...  median_house_value  ocean_proximity\n",
              "0      0    -122.23  ...            452600.0         NEAR BAY\n",
              "1      1    -122.22  ...            358500.0         NEAR BAY\n",
              "3      3    -122.25  ...            341300.0         NEAR BAY\n",
              "4      4    -122.25  ...            342200.0         NEAR BAY\n",
              "6      6    -122.25  ...            299200.0         NEAR BAY\n",
              "\n",
              "[5 rows x 11 columns]"
            ]
          },
          "metadata": {
            "tags": []
          },
          "execution_count": 92
        }
      ]
    },
    {
      "cell_type": "code",
      "metadata": {
        "id": "3ad43l6D7xZQ"
      },
      "source": [
        "'''\r\n",
        "train_test_split --> train , test dataset으로 나눠줌\r\n",
        "행의 개수가 같은 여러 개의 데이터셋을 넘겨서 같은 인덱스를 기반으로 나눌 수 있음. \r\n",
        "@random_state :  난수 초기값을 지정\r\n",
        "'''\r\n",
        "from sklearn.model_selection import train_test_split\r\n",
        "train_set, test_set = train_test_split(df, test_size = 0.2, random_state = 42)"
      ],
      "execution_count": 93,
      "outputs": []
    },
    {
      "cell_type": "code",
      "metadata": {
        "id": "HYkME-aHIJBe"
      },
      "source": [
        ""
      ],
      "execution_count": 176,
      "outputs": []
    },
    {
      "cell_type": "code",
      "metadata": {
        "colab": {
          "base_uri": "https://localhost:8080/",
          "height": 282
        },
        "id": "qyQHCHHs-1SO",
        "outputId": "45e868a1-8a04-4953-f5ed-6e6d07f59101"
      },
      "source": [
        "'''\r\n",
        "df.where(Series 객체에 대한 조건문, 거짓에 대한 대체 값)\r\n",
        "'''\r\n",
        "df['income_cat'] = np.ceil(df['median_income'] / 1.5)\r\n",
        "df['income_cat'].where(df['income_cat'] < 5, 5.0, inplace = True)\r\n",
        "df['income_cat'].hist()"
      ],
      "execution_count": 94,
      "outputs": [
        {
          "output_type": "execute_result",
          "data": {
            "text/plain": [
              "<matplotlib.axes._subplots.AxesSubplot at 0x7fb25fb5ca58>"
            ]
          },
          "metadata": {
            "tags": []
          },
          "execution_count": 94
        },
        {
          "output_type": "display_data",
          "data": {
            "image/png": "[encoded data removed]",
            "text/plain": [
              "<Figure size 432x288 with 1 Axes>"
            ]
          },
          "metadata": {
            "tags": [],
            "needs_background": "light"
          }
        }
      ]
    },
    {
      "cell_type": "code",
      "metadata": {
        "id": "yITGiMuJCU3H"
      },
      "source": [
        "'''\r\n",
        "sklearn의 StratifiedShuffleSplit function\r\n",
        "StratifiedShuffleSplit(n_split, test_size, random_state)\r\n",
        "@n_split : n개의 train/test dataset return // 여기서 n개라는 것은 80:20 의 n쌍이 나온다는 말\r\n",
        "\r\n",
        "'''\r\n",
        "from sklearn.model_selection import StratifiedShuffleSplit\r\n",
        "split = StratifiedShuffleSplit(n_splits = 1, test_size = 0.2, random_state = 46)\r\n",
        "for train_index, test_index in split.split(df, df[\"income_cat\"]):\r\n",
        "  strat_train_set = df.loc[train_index]\r\n",
        "  strat_test_set = df.loc[test_index]"
      ],
      "execution_count": 184,
      "outputs": []
    },
    {
      "cell_type": "markdown",
      "metadata": {
        "id": "YycqljjLJkTv"
      },
      "source": [
        ""
      ]
    },
    {
      "cell_type": "code",
      "metadata": {
        "id": "3cWxz5qLE7lW"
      },
      "source": [
        "for set_ in (strat_train_set, strat_test_set):\r\n",
        "  set_.drop(\"income_cat\", axis = 1, inplace = True)"
      ],
      "execution_count": 96,
      "outputs": []
    },
    {
      "cell_type": "code",
      "metadata": {
        "id": "BejDWsroiiWM"
      },
      "source": [
        "housing = strat_train_set.copy()"
      ],
      "execution_count": 97,
      "outputs": []
    },
    {
      "cell_type": "code",
      "metadata": {
        "colab": {
          "base_uri": "https://localhost:8080/",
          "height": 297
        },
        "id": "XkhgTu5ei2GJ",
        "outputId": "b6f0fd26-3754-4bde-c5c5-5d65ee6aaea0"
      },
      "source": [
        "housing.plot(kind='scatter', x='longitude', y = 'latitude', alpha = 0.1)"
      ],
      "execution_count": 98,
      "outputs": [
        {
          "output_type": "execute_result",
          "data": {
            "text/plain": [
              "<matplotlib.axes._subplots.AxesSubplot at 0x7fb25c687400>"
            ]
          },
          "metadata": {
            "tags": []
          },
          "execution_count": 98
        },
        {
          "output_type": "display_data",
          "data": {
            "image/png": "[encoded data removed]",
            "text/plain": [
              "<Figure size 432x288 with 1 Axes>"
            ]
          },
          "metadata": {
            "tags": [],
            "needs_background": "light"
          }
        }
      ]
    },
    {
      "cell_type": "code",
      "metadata": {
        "colab": {
          "base_uri": "https://localhost:8080/",
          "height": 464
        },
        "id": "c2zVHRa-i-cm",
        "outputId": "9bab75f5-c78f-45b4-a488-7943054630ea"
      },
      "source": [
        "housing.plot(kind  = 'scatter', \r\n",
        "             x     = 'longitude', \r\n",
        "             y     = 'latitude', \r\n",
        "             alpha = 0.4, \r\n",
        "             s     = housing['population']/100, \r\n",
        "             label = 'population', \r\n",
        "             figsize = (10, 7), \r\n",
        "             c = \"median_house_value\", \r\n",
        "             cmap = plt.get_cmap(\"jet\"),\r\n",
        "             colorbar = True,\r\n",
        "             sharex   = False)\r\n",
        "plt.legend()"
      ],
      "execution_count": 99,
      "outputs": [
        {
          "output_type": "execute_result",
          "data": {
            "text/plain": [
              "<matplotlib.legend.Legend at 0x7fb25c5a9128>"
            ]
          },
          "metadata": {
            "tags": []
          },
          "execution_count": 99
        },
        {
          "output_type": "display_data",
          "data": {
            "image/png": "[encoded data removed]",
            "text/plain": [
              "<Figure size 720x504 with 2 Axes>"
            ]
          },
          "metadata": {
            "tags": [],
            "needs_background": "light"
          }
        }
      ]
    },
    {
      "cell_type": "code",
      "metadata": {
        "colab": {
          "base_uri": "https://localhost:8080/"
        },
        "id": "y1o5jBxqkafm",
        "outputId": "2b32d3d4-bf22-4368-b884-5a777da4c1fa"
      },
      "source": [
        "corr_matrix = housing.corr()\r\n",
        "corr_matrix['median_house_value'].sort_values(ascending = True)"
      ],
      "execution_count": 100,
      "outputs": [
        {
          "output_type": "execute_result",
          "data": {
            "text/plain": [
              "latitude             -0.139874\n",
              "longitude            -0.048800\n",
              "population           -0.024839\n",
              "total_bedrooms        0.049499\n",
              "households            0.064747\n",
              "housing_median_age    0.104786\n",
              "total_rooms           0.133094\n",
              "median_income         0.691489\n",
              "median_house_value    1.000000\n",
              "Name: median_house_value, dtype: float64"
            ]
          },
          "metadata": {
            "tags": []
          },
          "execution_count": 100
        }
      ]
    },
    {
      "cell_type": "code",
      "metadata": {
        "id": "QLfEHPtUlg_-"
      },
      "source": [
        "housing[\"rooms_per_household\"] = housing[\"total_rooms\"] / housing[\"households\"]     # 가구당 방 개수\r\n",
        "housing[\"bedrooms_per_room\"] = housing[\"total_bedrooms\"] / housing[\"total_rooms\"]   # 방 개수당 침실 수\r\n",
        "housing[\"population_per_household\"] = housing[\"population\"] / housing[\"households\"] # 가구당 인구 수"
      ],
      "execution_count": 101,
      "outputs": []
    },
    {
      "cell_type": "code",
      "metadata": {
        "colab": {
          "base_uri": "https://localhost:8080/"
        },
        "id": "3ucl0CvLnzho",
        "outputId": "07a7e370-55ef-43df-a483-fa864c785425"
      },
      "source": [
        "corr_drived_matrix = housing.corr()\r\n",
        "corr_drived_matrix[\"median_house_value\"].sort_values(ascending = True) "
      ],
      "execution_count": 102,
      "outputs": [
        {
          "output_type": "execute_result",
          "data": {
            "text/plain": [
              "bedrooms_per_room          -0.257678\n",
              "latitude                   -0.139874\n",
              "longitude                  -0.048800\n",
              "population_per_household   -0.048487\n",
              "population                 -0.024839\n",
              "total_bedrooms              0.049499\n",
              "households                  0.064747\n",
              "housing_median_age          0.104786\n",
              "total_rooms                 0.133094\n",
              "rooms_per_household         0.157872\n",
              "median_income               0.691489\n",
              "median_house_value          1.000000\n",
              "Name: median_house_value, dtype: float64"
            ]
          },
          "metadata": {
            "tags": []
          },
          "execution_count": 102
        }
      ]
    },
    {
      "cell_type": "code",
      "metadata": {
        "id": "JoMuSOOaoMBH"
      },
      "source": [
        "housing = strat_train_set.drop(\"median_house_value\", axis = 1)\r\n",
        "housing_labels = strat_train_set[\"median_house_value\"].copy( )"
      ],
      "execution_count": 103,
      "outputs": []
    },
    {
      "cell_type": "code",
      "metadata": {
        "id": "zg9Ho-AUwtak"
      },
      "source": [
        "'''\r\n",
        "fillna function\r\n",
        "@value  : 결측에 대체하고자 하는 값\r\n",
        "@method : \r\n",
        "@axis   : 0 : index, 1 : columns\r\n",
        "@inplace : True면 기존 컬럼에 결측치 대체, False 면 새로운 컬럼 생성\r\n",
        "'''\r\n",
        "\r\n",
        "housing.dropna(subset=[\"total_bedrooms\"]) # 옵션 1\r\n",
        "housing.drop(\"total_bedrooms\", axis = 1)\r\n",
        "median = housing[\"total_bedrooms\"].median()\r\n",
        "housing[\"total_bedrooms\"].fillna(median, inplace = True)"
      ],
      "execution_count": 104,
      "outputs": []
    },
    {
      "cell_type": "code",
      "metadata": {
        "colab": {
          "base_uri": "https://localhost:8080/"
        },
        "id": "_O-eO2VKy-wK",
        "outputId": "67315f40-aa38-4f1d-abdf-924bce12bb78"
      },
      "source": [
        "from sklearn.impute import SimpleImputer\r\n",
        "imputer = SimpleImputer(strategy=\"median\")\r\n",
        "housing_num = housing.drop(\"ocean_proximity\", axis = 1)\r\n",
        "imputer.fit(housing_num)\r\n",
        "print(imputer.statistics_)\r\n",
        "X = imputer.transform(housing_num)\r\n",
        "housing_tr = pd.DataFrame(X, columns = housing_num.columns, index = list(housing.index.values))"
      ],
      "execution_count": 105,
      "outputs": [
        {
          "output_type": "stream",
          "text": [
            "[-118.5      34.26     29.     2121.5     435.     1169.      409.\n",
            "    3.5333]\n"
          ],
          "name": "stdout"
        }
      ]
    },
    {
      "cell_type": "code",
      "metadata": {
        "colab": {
          "base_uri": "https://localhost:8080/",
          "height": 195
        },
        "id": "oLJ4Se81ze_L",
        "outputId": "c1c47c4e-c8ef-4ac7-9fc4-37bafa083809"
      },
      "source": [
        "housing_tr.head()"
      ],
      "execution_count": 106,
      "outputs": [
        {
          "output_type": "execute_result",
          "data": {
            "text/html": [
              "<div>\n",
              "<style scoped>\n",
              "    .dataframe tbody tr th:only-of-type {\n",
              "        vertical-align: middle;\n",
              "    }\n",
              "\n",
              "    .dataframe tbody tr th {\n",
              "        vertical-align: top;\n",
              "    }\n",
              "\n",
              "    .dataframe thead th {\n",
              "        text-align: right;\n",
              "    }\n",
              "</style>\n",
              "<table border=\"1\" class=\"dataframe\">\n",
              "  <thead>\n",
              "    <tr style=\"text-align: right;\">\n",
              "      <th></th>\n",
              "      <th>longitude</th>\n",
              "      <th>latitude</th>\n",
              "      <th>housing_median_age</th>\n",
              "      <th>total_rooms</th>\n",
              "      <th>total_bedrooms</th>\n",
              "      <th>population</th>\n",
              "      <th>households</th>\n",
              "      <th>median_income</th>\n",
              "    </tr>\n",
              "  </thead>\n",
              "  <tbody>\n",
              "    <tr>\n",
              "      <th>4924</th>\n",
              "      <td>-118.24</td>\n",
              "      <td>34.00</td>\n",
              "      <td>23.0</td>\n",
              "      <td>588.0</td>\n",
              "      <td>157.0</td>\n",
              "      <td>716.0</td>\n",
              "      <td>173.0</td>\n",
              "      <td>1.2056</td>\n",
              "    </tr>\n",
              "    <tr>\n",
              "      <th>762</th>\n",
              "      <td>-122.08</td>\n",
              "      <td>37.65</td>\n",
              "      <td>35.0</td>\n",
              "      <td>1813.0</td>\n",
              "      <td>393.0</td>\n",
              "      <td>1093.0</td>\n",
              "      <td>374.0</td>\n",
              "      <td>3.6818</td>\n",
              "    </tr>\n",
              "    <tr>\n",
              "      <th>6126</th>\n",
              "      <td>-117.92</td>\n",
              "      <td>34.11</td>\n",
              "      <td>24.0</td>\n",
              "      <td>2838.0</td>\n",
              "      <td>695.0</td>\n",
              "      <td>2151.0</td>\n",
              "      <td>645.0</td>\n",
              "      <td>3.2202</td>\n",
              "    </tr>\n",
              "    <tr>\n",
              "      <th>18203</th>\n",
              "      <td>-122.05</td>\n",
              "      <td>37.38</td>\n",
              "      <td>23.0</td>\n",
              "      <td>3200.0</td>\n",
              "      <td>907.0</td>\n",
              "      <td>2029.0</td>\n",
              "      <td>866.0</td>\n",
              "      <td>3.5649</td>\n",
              "    </tr>\n",
              "    <tr>\n",
              "      <th>10011</th>\n",
              "      <td>-121.10</td>\n",
              "      <td>39.15</td>\n",
              "      <td>10.0</td>\n",
              "      <td>680.0</td>\n",
              "      <td>143.0</td>\n",
              "      <td>354.0</td>\n",
              "      <td>140.0</td>\n",
              "      <td>4.0333</td>\n",
              "    </tr>\n",
              "  </tbody>\n",
              "</table>\n",
              "</div>"
            ],
            "text/plain": [
              "       longitude  latitude  ...  households  median_income\n",
              "4924     -118.24     34.00  ...       173.0         1.2056\n",
              "762      -122.08     37.65  ...       374.0         3.6818\n",
              "6126     -117.92     34.11  ...       645.0         3.2202\n",
              "18203    -122.05     37.38  ...       866.0         3.5649\n",
              "10011    -121.10     39.15  ...       140.0         4.0333\n",
              "\n",
              "[5 rows x 8 columns]"
            ]
          },
          "metadata": {
            "tags": []
          },
          "execution_count": 106
        }
      ]
    },
    {
      "cell_type": "code",
      "metadata": {
        "id": "OxhY-WzO0aYI",
        "colab": {
          "base_uri": "https://localhost:8080/",
          "height": 343
        },
        "outputId": "e25d2a44-8b04-432c-d02a-cf12ab6a509a"
      },
      "source": [
        "housing_cat = housing[[\"ocean_proximity\"]]\r\n",
        "housing_cat.head(10)"
      ],
      "execution_count": 107,
      "outputs": [
        {
          "output_type": "execute_result",
          "data": {
            "text/html": [
              "<div>\n",
              "<style scoped>\n",
              "    .dataframe tbody tr th:only-of-type {\n",
              "        vertical-align: middle;\n",
              "    }\n",
              "\n",
              "    .dataframe tbody tr th {\n",
              "        vertical-align: top;\n",
              "    }\n",
              "\n",
              "    .dataframe thead th {\n",
              "        text-align: right;\n",
              "    }\n",
              "</style>\n",
              "<table border=\"1\" class=\"dataframe\">\n",
              "  <thead>\n",
              "    <tr style=\"text-align: right;\">\n",
              "      <th></th>\n",
              "      <th>ocean_proximity</th>\n",
              "    </tr>\n",
              "  </thead>\n",
              "  <tbody>\n",
              "    <tr>\n",
              "      <th>4924</th>\n",
              "      <td>&lt;1H OCEAN</td>\n",
              "    </tr>\n",
              "    <tr>\n",
              "      <th>762</th>\n",
              "      <td>NEAR BAY</td>\n",
              "    </tr>\n",
              "    <tr>\n",
              "      <th>6126</th>\n",
              "      <td>&lt;1H OCEAN</td>\n",
              "    </tr>\n",
              "    <tr>\n",
              "      <th>18203</th>\n",
              "      <td>&lt;1H OCEAN</td>\n",
              "    </tr>\n",
              "    <tr>\n",
              "      <th>10011</th>\n",
              "      <td>INLAND</td>\n",
              "    </tr>\n",
              "    <tr>\n",
              "      <th>3533</th>\n",
              "      <td>&lt;1H OCEAN</td>\n",
              "    </tr>\n",
              "    <tr>\n",
              "      <th>11781</th>\n",
              "      <td>INLAND</td>\n",
              "    </tr>\n",
              "    <tr>\n",
              "      <th>4761</th>\n",
              "      <td>&lt;1H OCEAN</td>\n",
              "    </tr>\n",
              "    <tr>\n",
              "      <th>14282</th>\n",
              "      <td>NEAR OCEAN</td>\n",
              "    </tr>\n",
              "    <tr>\n",
              "      <th>2671</th>\n",
              "      <td>INLAND</td>\n",
              "    </tr>\n",
              "  </tbody>\n",
              "</table>\n",
              "</div>"
            ],
            "text/plain": [
              "      ocean_proximity\n",
              "4924        <1H OCEAN\n",
              "762          NEAR BAY\n",
              "6126        <1H OCEAN\n",
              "18203       <1H OCEAN\n",
              "10011          INLAND\n",
              "3533        <1H OCEAN\n",
              "11781          INLAND\n",
              "4761        <1H OCEAN\n",
              "14282      NEAR OCEAN\n",
              "2671           INLAND"
            ]
          },
          "metadata": {
            "tags": []
          },
          "execution_count": 107
        }
      ]
    },
    {
      "cell_type": "code",
      "metadata": {
        "id": "WlNFXBw9jr7J"
      },
      "source": [
        "'''\r\n",
        "Categorical 데이터를 숫자로 변환\r\n",
        "'''\r\n",
        "from sklearn.preprocessing import OrdinalEncoder\r\n",
        "ordinal_encoder = OrdinalEncoder()\r\n",
        "housing_cat_encoded = ordinal_encoder.fit_transform(housing_cat)"
      ],
      "execution_count": 108,
      "outputs": []
    },
    {
      "cell_type": "code",
      "metadata": {
        "colab": {
          "base_uri": "https://localhost:8080/"
        },
        "id": "mc3d1w5OkZ90",
        "outputId": "1b1ac084-2baf-42fd-817e-e3bddacbf0f1"
      },
      "source": [
        "housing_cat_encoded[:10]"
      ],
      "execution_count": 109,
      "outputs": [
        {
          "output_type": "execute_result",
          "data": {
            "text/plain": [
              "array([[0.],\n",
              "       [3.],\n",
              "       [0.],\n",
              "       [0.],\n",
              "       [1.],\n",
              "       [0.],\n",
              "       [1.],\n",
              "       [0.],\n",
              "       [4.],\n",
              "       [1.]])"
            ]
          },
          "metadata": {
            "tags": []
          },
          "execution_count": 109
        }
      ]
    },
    {
      "cell_type": "code",
      "metadata": {
        "colab": {
          "base_uri": "https://localhost:8080/"
        },
        "id": "ZhDpmYRMkbMH",
        "outputId": "86692149-83d8-4c0c-b1a3-d91667eb8535"
      },
      "source": [
        "'''\r\n",
        ".categories_ --> 범주형 특성마다 카테고리들의 1D 배열을 담은 리스트가 반환됨\r\n",
        "'''\r\n",
        "ordinal_encoder.categories_"
      ],
      "execution_count": 110,
      "outputs": [
        {
          "output_type": "execute_result",
          "data": {
            "text/plain": [
              "[array(['<1H OCEAN', 'INLAND', 'ISLAND', 'NEAR BAY', 'NEAR OCEAN'],\n",
              "       dtype=object)]"
            ]
          },
          "metadata": {
            "tags": []
          },
          "execution_count": 110
        }
      ]
    },
    {
      "cell_type": "code",
      "metadata": {
        "colab": {
          "base_uri": "https://localhost:8080/"
        },
        "id": "sQVQgYlolWcO",
        "outputId": "3febecfa-6a1d-45d2-b34c-93522f8e88be"
      },
      "source": [
        "'''\r\n",
        "One-Hot encoding\r\n",
        "'''\r\n",
        "from sklearn.preprocessing import OneHotEncoder\r\n",
        "cat_encoder = OneHotEncoder()\r\n",
        "housing_cat_1hot = cat_encoder.fit_transform(housing_cat)\r\n",
        "housing_cat_1hot # 출력이 넘파이 배열이 아닌 Sparse Row format\r\n",
        "housing_cat_1hot.toarray()\r\n",
        "cat_encoder.categories_"
      ],
      "execution_count": 111,
      "outputs": [
        {
          "output_type": "execute_result",
          "data": {
            "text/plain": [
              "[array(['<1H OCEAN', 'INLAND', 'ISLAND', 'NEAR BAY', 'NEAR OCEAN'],\n",
              "       dtype=object)]"
            ]
          },
          "metadata": {
            "tags": []
          },
          "execution_count": 111
        }
      ]
    },
    {
      "cell_type": "code",
      "metadata": {
        "id": "lAHOGG0qlwCT"
      },
      "source": [
        "'''\r\n",
        "sklearn을 이용한 나만의 변환기 만들기\r\n",
        "fit(), transform(), fit_transform() 메서드를 구현한 파이썬 클래스를 만들면 됨\r\n",
        "TransformerMixin을 상속하면 자동으로 생성\r\n",
        "BaseEstimator를 상속하면 하이퍼파라미터 튜닝에 필요한 두 메서드(get_params(), set_params())를 추가로 얻게됨\r\n",
        "'''\r\n",
        "from sklearn.base import BaseEstimator, TransformerMixin\r\n",
        "rooms_ix, bedrooms_ix, population_ix, households_ix = 3, 4, 5, 6\r\n",
        "\r\n",
        "class CombinedAttributesAdder(BaseEstimator, TransformerMixin):\r\n",
        "  def __init__(self, add_bedrooms_per_room = True):\r\n",
        "    self.add_bedrooms_per_room = add_bedrooms_per_room\r\n",
        "  def fit(self, X, y = None):\r\n",
        "    return self\r\n",
        "  def transform(self, X):\r\n",
        "    rooms_per_household = X[:, rooms_ix] / X[:, households_ix]\r\n",
        "    population_per_household = X[:, population_ix] / X[:, households_ix]\r\n",
        "    if self.add_bedrooms_per_room:\r\n",
        "      bedrooms_per_room = X[:, bedrooms_ix] / X[:, rooms_ix]\r\n",
        "      return np.c_[X, rooms_per_household, population_per_household, bedrooms_per_room]\r\n",
        "    else:\r\n",
        "      return np.c_[X, rooms_per_household, population_per_household]\r\n",
        "\r\n",
        "attr_adder = CombinedAttributesAdder(add_bedrooms_per_room = False)\r\n",
        "housing_extra_attribs = attr_adder.transform(housing.values)"
      ],
      "execution_count": 112,
      "outputs": []
    },
    {
      "cell_type": "code",
      "metadata": {
        "colab": {
          "base_uri": "https://localhost:8080/"
        },
        "id": "gerS1sPBrvgF",
        "outputId": "d66e286b-0fea-4076-8320-abc272f42d17"
      },
      "source": [
        "housing_extra_attribs"
      ],
      "execution_count": 113,
      "outputs": [
        {
          "output_type": "execute_result",
          "data": {
            "text/plain": [
              "array([[-118.24, 34.0, 23.0, ..., '<1H OCEAN', 3.398843930635838,\n",
              "        4.138728323699422],\n",
              "       [-122.08, 37.65, 35.0, ..., 'NEAR BAY', 4.847593582887701,\n",
              "        2.9224598930481283],\n",
              "       [-117.92, 34.11, 24.0, ..., '<1H OCEAN', 4.4, 3.3348837209302324],\n",
              "       ...,\n",
              "       [-119.76, 36.82, 17.0, ..., 'INLAND', 4.770818995182381,\n",
              "        2.1032346868547833],\n",
              "       [-118.41, 34.0, 35.0, ..., '<1H OCEAN', 3.45928338762215,\n",
              "        3.3420195439739415],\n",
              "       [-117.71, 34.05, 20.0, ..., 'INLAND', 4.742203742203742,\n",
              "        3.212058212058212]], dtype=object)"
            ]
          },
          "metadata": {
            "tags": []
          },
          "execution_count": 113
        }
      ]
    },
    {
      "cell_type": "code",
      "metadata": {
        "id": "yAMmDFi4r2bW"
      },
      "source": [
        "from sklearn.pipeline import Pipeline\r\n",
        "from sklearn.preprocessing import StandardScaler\r\n",
        "\r\n",
        "num_pipeline = Pipeline([\r\n",
        "  ('imputer', SimpleImputer(strategy=\"median\")),\r\n",
        "  ('attr_adder', CombinedAttributesAdder()),\r\n",
        "  ('std_scaler', StandardScaler())\r\n",
        "])\r\n",
        "\r\n",
        "housing_num_tr = num_pipeline.fit_transform(housing_num)"
      ],
      "execution_count": 124,
      "outputs": []
    },
    {
      "cell_type": "code",
      "metadata": {
        "id": "ef6I4A4i1S4S"
      },
      "source": [
        "from sklearn.compose import ColumnTransformer\r\n",
        "\r\n",
        "num_attribs = list(housing_num)\r\n",
        "cat_attribs = ['ocean_proximity']\r\n",
        "\r\n",
        "full_pipeline = ColumnTransformer([\r\n",
        "    ('num', num_pipeline, num_attribs),\r\n",
        "    ('cat', OneHotEncoder(), cat_attribs)\r\n",
        "])\r\n",
        "\r\n",
        "housing_prepared = full_pipeline.fit_transform(housing)"
      ],
      "execution_count": 125,
      "outputs": []
    },
    {
      "cell_type": "code",
      "metadata": {
        "colab": {
          "base_uri": "https://localhost:8080/"
        },
        "id": "LJluJI5UbCkj",
        "outputId": "fd134e33-6236-4a66-ecf7-cf42f0c4b3d9"
      },
      "source": [
        "from sklearn.linear_model import LinearRegression\r\n",
        "lin_reg = LinearRegression()\r\n",
        "lin_reg.fit(housing_prepared, housing_labels)"
      ],
      "execution_count": 129,
      "outputs": [
        {
          "output_type": "execute_result",
          "data": {
            "text/plain": [
              "LinearRegression(copy_X=True, fit_intercept=True, n_jobs=None, normalize=False)"
            ]
          },
          "metadata": {
            "tags": []
          },
          "execution_count": 129
        }
      ]
    },
    {
      "cell_type": "code",
      "metadata": {
        "colab": {
          "base_uri": "https://localhost:8080/"
        },
        "id": "kUdR0AErccfn",
        "outputId": "88ac6fc9-94ce-47ba-b1ee-ad3e55676640"
      },
      "source": [
        "import math \r\n",
        "some_data = housing\r\n",
        "some_labels = housing_labels\r\n",
        "some_data_prepared = full_pipeline.fit_transform(some_data)\r\n",
        "print(\"예측   : \", np.round(lin_reg.predict(some_data_prepared[:5])))\r\n",
        "print(\"레이블 : \", list(some_labels)[:5])"
      ],
      "execution_count": 151,
      "outputs": [
        {
          "output_type": "stream",
          "text": [
            "예측   :  [100099. 226769. 175674. 251758. 111818.]\n",
            "레이블 :  [87500.0, 165400.0, 126200.0, 450000.0, 161500.0]\n"
          ],
          "name": "stdout"
        }
      ]
    },
    {
      "cell_type": "code",
      "metadata": {
        "colab": {
          "base_uri": "https://localhost:8080/"
        },
        "id": "hvbFp8nUdN_U",
        "outputId": "af60c245-490f-49c4-c118-aff558531a9c"
      },
      "source": [
        "'''\r\n",
        "sklearn.metrics --> mean_squared_error function(Y, YHat)\r\n",
        "'''\r\n",
        "from sklearn.metrics import mean_squared_error\r\n",
        "housing_YHat = lin_reg.predict(some_data_prepared)\r\n",
        "lin_mse = mean_squared_error(some_labels, housing_YHat) \r\n",
        "lin_rmse = np.sqrt(lin_mse)\r\n",
        "lin_rmse"
      ],
      "execution_count": 153,
      "outputs": [
        {
          "output_type": "execute_result",
          "data": {
            "text/plain": [
              "68065.69122383039"
            ]
          },
          "metadata": {
            "tags": []
          },
          "execution_count": 153
        }
      ]
    },
    {
      "cell_type": "code",
      "metadata": {
        "colab": {
          "base_uri": "https://localhost:8080/"
        },
        "id": "-wuiVgNqjTWu",
        "outputId": "88f9c095-452b-47c6-928f-6fa713c69433"
      },
      "source": [
        "from sklearn.tree import DecisionTreeRegressor\r\n",
        "tree_reg = DecisionTreeRegressor()\r\n",
        "tree_reg.fit(housing_prepared, housing_labels)"
      ],
      "execution_count": 154,
      "outputs": [
        {
          "output_type": "execute_result",
          "data": {
            "text/plain": [
              "DecisionTreeRegressor(ccp_alpha=0.0, criterion='mse', max_depth=None,\n",
              "                      max_features=None, max_leaf_nodes=None,\n",
              "                      min_impurity_decrease=0.0, min_impurity_split=None,\n",
              "                      min_samples_leaf=1, min_samples_split=2,\n",
              "                      min_weight_fraction_leaf=0.0, presort='deprecated',\n",
              "                      random_state=None, splitter='best')"
            ]
          },
          "metadata": {
            "tags": []
          },
          "execution_count": 154
        }
      ]
    },
    {
      "cell_type": "code",
      "metadata": {
        "id": "faoPDeTjh0wT"
      },
      "source": [
        "# 교차검증을 사용한 평가\r\n",
        "'''\r\n",
        "sklearn의 교차검증기능은 비용함수가 아닌 효용함수를 기대하므로, 클수록 좋다고 판단함\r\n",
        "따라서 scoring을 neg_mean_squared_error 로 변경해야 함\r\n",
        "'''\r\n",
        "from sklearn.model_selection import cross_val_score\r\n",
        "scores = cross_val_score(tree_reg, housing_prepared, housing_labels, scoring = \"neg_mean_squared_error\", cv = 10)\r\n",
        "tree_rmse_scores = np.sqrt(-scores)"
      ],
      "execution_count": 156,
      "outputs": []
    },
    {
      "cell_type": "code",
      "metadata": {
        "id": "dTYjCXITkQ8V"
      },
      "source": [
        "def display_scores(scores):\r\n",
        "  print(\"점수 : \", scores)\r\n",
        "  print(\"평균 : \", scores.mean())\r\n",
        "  print(\"표준편차 :\", scores.std())"
      ],
      "execution_count": 163,
      "outputs": []
    },
    {
      "cell_type": "code",
      "metadata": {
        "colab": {
          "base_uri": "https://localhost:8080/"
        },
        "id": "GfpaIRpVkXH5",
        "outputId": "40b9dd16-34c4-47ca-b5ea-33607cd08aca"
      },
      "source": [
        "display_scores(tree_rmse_scores)"
      ],
      "execution_count": 164,
      "outputs": [
        {
          "output_type": "stream",
          "text": [
            "점수 :  [70830.23447496 71156.75619521 71033.17021238 70694.79112001\n",
            " 65175.21234599 70351.86325807 69294.3223961  71897.87155078\n",
            " 70327.45197945 71083.96593555]\n",
            "평균 :  70184.56394685146\n",
            "표준편차 : 1789.4524015137058\n"
          ],
          "name": "stdout"
        }
      ]
    },
    {
      "cell_type": "code",
      "metadata": {
        "colab": {
          "base_uri": "https://localhost:8080/"
        },
        "id": "MfbGTzpCnyZe",
        "outputId": "7ad9c457-bedf-4146-d885-d4cbcae1bd56"
      },
      "source": [
        "from sklearn.model_selection import cross_val_score\r\n",
        "scores = cross_val_score(lin_reg, housing_prepared, housing_labels, scoring = \"neg_mean_squared_error\", cv = 10)\r\n",
        "reg_rmse_scores = np.sqrt(-scores)\r\n",
        "display_scores(reg_rmse_scores)"
      ],
      "execution_count": 165,
      "outputs": [
        {
          "output_type": "stream",
          "text": [
            "점수 :  [67042.27191545 67714.35840595 67202.27447772 72835.74518388\n",
            " 66580.76898861 69402.08476101 65453.53737299 72315.36473198\n",
            " 65353.22532041 69700.91937019]\n",
            "평균 :  68360.05505281965\n",
            "표준편차 : 2504.1701462915858\n"
          ],
          "name": "stdout"
        }
      ]
    },
    {
      "cell_type": "code",
      "metadata": {
        "id": "hNjucH0sn86j"
      },
      "source": [
        "from sklearn.ensemble import RandomForestRegressor\r\n",
        "forest_reg = RandomForestRegressor()\r\n",
        "forest_reg.fit(housing_prepared, housing_labels)"
      ],
      "execution_count": null,
      "outputs": []
    },
    {
      "cell_type": "code",
      "metadata": {
        "colab": {
          "base_uri": "https://localhost:8080/"
        },
        "id": "S6yif4V9omFP",
        "outputId": "4d7d99e8-19db-4f5a-f0d5-f06dc49203a6"
      },
      "source": [
        "forest_YHat = forest_reg.predict(housing_prepared)\r\n",
        "forest_mse = mean_squared_error(housing_labels, forest_YHat)\r\n",
        "forest_rmse = np.sqrt(forest_mse)"
      ],
      "execution_count": 169,
      "outputs": [
        {
          "output_type": "execute_result",
          "data": {
            "text/plain": [
              "18568.75111205212"
            ]
          },
          "metadata": {
            "tags": []
          },
          "execution_count": 169
        }
      ]
    },
    {
      "cell_type": "code",
      "metadata": {
        "colab": {
          "base_uri": "https://localhost:8080/"
        },
        "id": "0cWyLm1CpByU",
        "outputId": "0019274e-0796-488b-d066-7eb6b380a6ea"
      },
      "source": [
        "scores = cross_val_score(forest_reg, housing_prepared, housing_labels, scoring = \"neg_mean_squared_error\", cv = 10)\r\n",
        "forest_rmse_scores = np.sqrt(-scores)\r\n",
        "display_scores(forest_rmse_scores)"
      ],
      "execution_count": 170,
      "outputs": [
        {
          "output_type": "stream",
          "text": [
            "점수 :  [49443.58870743 48579.74215918 49636.97228902 51075.76246947\n",
            " 47352.46599894 51995.40178214 49669.87129939 50400.75927497\n",
            " 47752.0899737  51794.39422096]\n",
            "평균 :  49770.10481751818\n",
            "표준편차 : 1504.0235883194682\n"
          ],
          "name": "stdout"
        }
      ]
    },
    {
      "cell_type": "code",
      "metadata": {
        "colab": {
          "base_uri": "https://localhost:8080/"
        },
        "id": "09WmszvNpUlz",
        "outputId": "23c15ae2-b4b4-4558-8d20-718f64e6edec"
      },
      "source": [
        "import joblib\r\n",
        "joblib.dump(forest_reg, \"forest_reg.pkl\")"
      ],
      "execution_count": 171,
      "outputs": [
        {
          "output_type": "execute_result",
          "data": {
            "text/plain": [
              "RandomForestRegressor(bootstrap=True, ccp_alpha=0.0, criterion='mse',\n",
              "                      max_depth=None, max_features='auto', max_leaf_nodes=None,\n",
              "                      max_samples=None, min_impurity_decrease=0.0,\n",
              "                      min_impurity_split=None, min_samples_leaf=1,\n",
              "                      min_samples_split=2, min_weight_fraction_leaf=0.0,\n",
              "                      n_estimators=100, n_jobs=None, oob_score=False,\n",
              "                      random_state=None, verbose=0, warm_start=False)"
            ]
          },
          "metadata": {
            "tags": []
          },
          "execution_count": 171
        }
      ]
    },
    {
      "cell_type": "code",
      "metadata": {
        "id": "2VAJhDg0udoY"
      },
      "source": [
        "'''\r\n",
        "RandomForestRegressor\r\n",
        "n_estimators : 생성할 트리의 개수\r\n",
        "'''\r\n",
        "\r\n",
        "from sklearn.model_selection import GridSearchCV\r\n",
        "param_grid = [\r\n",
        "  {'n_estimators':[3, 10, 30], 'max_features': [2, 4, 6, 8]}, # 3x4 = 12\r\n",
        "  {'bootstrap': [False], 'n_estimators': [3, 10], 'max_features' : [2, 3, 4]}, # 2 x 3 = 6  --> 12 + 6 = 18번의 hyper parameter search 수행\r\n",
        "]\r\n",
        "forest_reg = RandomForestRegressor()\r\n",
        "grid_search = GridSearchCV(forest_reg, param_grid, cv = 5, scoring = 'neg_mean_squared_error', return_train_score = True)\r\n",
        "grid_search.fit(housing_prepared, housing_labels)"
      ],
      "execution_count": null,
      "outputs": []
    },
    {
      "cell_type": "code",
      "metadata": {
        "id": "xm3WHSxHxYvz"
      },
      "source": [
        "grid_search.best_params_    # 최적의 parameter 값 도출\r\n",
        "grid_search.best_estimator_ \r\n",
        "cvres = grid_search.cv_results_\r\n",
        "for mean_score, params in zip(cvres[\"mean_test_score\"], cvres[\"params\"]):\r\n",
        "  print(np.sqrt(-mean_score), params)"
      ],
      "execution_count": null,
      "outputs": []
    },
    {
      "cell_type": "code",
      "metadata": {
        "id": "H3ABg9F21Tpl"
      },
      "source": [
        "feature_importances = grid_search.best_estimator_.feature_importances_\r\n",
        "feature_importances\r\n",
        "\r\n",
        "extra_attribs = [\"rooms_per_hhold\", \"pop_per_hhold\", \"bedrooms_per_room\"]\r\n",
        "cat_encoder = full_pipeline.named_transformers_[\"cat\"]\r\n",
        "cat_one_hot_attribs = list(cat_encoder.categories_[0])\r\n",
        "attributes = num_attribs + extra_attribs + cat_one_hot_attribs\r\n",
        "sorted(zip(feature_importances, attributes), revese = True)"
      ],
      "execution_count": null,
      "outputs": []
    },
    {
      "cell_type": "code",
      "metadata": {
        "id": "IiLSn4pC5OZJ"
      },
      "source": [
        "'''\r\n",
        "stats.sem --> 표준오차 계산\r\n",
        "'''\r\n",
        "from scipy import stats\r\n",
        "confidence = 0.95\r\n",
        "squared_errors = (final_predictions - y_test) ** 2\r\n",
        "np.sqrt(stats.t.interval(confidence, \r\n",
        "                         len(squared_errors) - 1, \r\n",
        "                         loc = squared_errors.mean(), \r\n",
        "                         scale = stats.sem(squared_errors)))\r\n"
      ],
      "execution_count": null,
      "outputs": []
    },
    {
      "cell_type": "markdown",
      "metadata": {
        "id": "yfO55N8J5o1F"
      },
      "source": [
        ""
      ]
    }
  ]
}